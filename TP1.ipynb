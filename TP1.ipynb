{
  "nbformat": 4,
  "nbformat_minor": 0,
  "metadata": {
    "colab": {
      "provenance": [],
      "authorship_tag": "ABX9TyM5bVLpOMBLwMGqeGczF3yn",
      "include_colab_link": true
    },
    "kernelspec": {
      "name": "python3",
      "display_name": "Python 3"
    },
    "language_info": {
      "name": "python"
    }
  },
  "cells": [
    {
      "cell_type": "markdown",
      "metadata": {
        "id": "view-in-github",
        "colab_type": "text"
      },
      "source": [
        "<a href=\"https://colab.research.google.com/github/juanjduran/ProcesamientoDeHabla/blob/main/TP1.ipynb\" target=\"_parent\"><img src=\"https://colab.research.google.com/assets/colab-badge.svg\" alt=\"Open In Colab\"/></a>"
      ]
    },
    {
      "cell_type": "code",
      "source": [
        "#Instalacion de las librerias que se van a utilizar, requests y pypdf\n",
        "!pip install pypdf requests"
      ],
      "metadata": {
        "colab": {
          "base_uri": "https://localhost:8080/"
        },
        "id": "5sd4cuWbgIR5",
        "outputId": "457c5953-cb9d-4a87-bfdd-ee953d8c6281"
      },
      "execution_count": null,
      "outputs": [
        {
          "output_type": "stream",
          "name": "stdout",
          "text": [
            "Requirement already satisfied: pypdf in /usr/local/lib/python3.12/dist-packages (6.0.0)\n",
            "Requirement already satisfied: requests in /usr/local/lib/python3.12/dist-packages (2.32.4)\n",
            "Requirement already satisfied: charset_normalizer<4,>=2 in /usr/local/lib/python3.12/dist-packages (from requests) (3.4.3)\n",
            "Requirement already satisfied: idna<4,>=2.5 in /usr/local/lib/python3.12/dist-packages (from requests) (3.10)\n",
            "Requirement already satisfied: urllib3<3,>=1.21.1 in /usr/local/lib/python3.12/dist-packages (from requests) (2.5.0)\n",
            "Requirement already satisfied: certifi>=2017.4.17 in /usr/local/lib/python3.12/dist-packages (from requests) (2025.8.3)\n"
          ]
        }
      ]
    },
    {
      "cell_type": "code",
      "source": [
        "#Importamos las librerias que vamos autilizar, requests para hacer el pedido al servidor y pypdf para manipular el archivo pdf\n",
        "import requests\n",
        "from pypdf import PdfReader\n",
        "\n",
        "#Creamos tres variables, una que contiene la url que posee el archivo pdf que vamos a manipular, la otra es una lista vacia donde se van a guardar los diccionarios y la trecera contiene una cadena que es el nombre del libro\n",
        "url = 'https://www.argentina.gob.ar/sites/default/files/hernandez_jose_-_el_gaucho_martin_fierro.pdf'\n",
        "listDic = []\n",
        "bookName = 'el_gaucho_martin_fierro.pdf'\n",
        "\n",
        "#Definicion de la funcion que va a devolver la lista de diccionarios\n",
        "def dicPages(url, listDic, bookName):\n",
        "#Args: se le va a pasar tres argumentos, uno sera la url de la cual vamos a extraer el pdf que vamos a manipular, la otra una lista vacia para guardar los diccionarios de paginas y la tercera es el nombre del libro\n",
        "    response = requests.get(url) #Hace el pedido al servidor y devuelve un objeto respuesta y lo guarda en una variable\n",
        "    response.raise_for_status() #Se verifica el estado de la peticion, si esta correcta o arroja algun error\n",
        "\n",
        "    with open(bookName, 'wb') as f: #Con la funcion open se abre un archivo que va a llevar el nombre del libro, en este caso utilizamos una variable que guarda una cadena con el nombre ('el_gaucho_martin_fierro.pdf')\n",
        "        f.write(response.content) #con el metodo 'write' se escribe el contenido del pdf en el archivo recien creado\n",
        "\n",
        "    book = PdfReader(bookName) #Se crea una variable que contiene un objeto PdfReader que lo que hace es leer el archivo, se le pasa como argumento en nombre del libro\n",
        "\n",
        "    #Utilizamos un bucle for para que recorra cada una de las paginas del libro y vaya guardando numero de pagina y contenido como diciconario, luego ese diccionario es guardado en la lista vacia\n",
        "    for e in range(len(book.pages)):\n",
        "      dic = {}\n",
        "      page = book.pages[e].extract_text()\n",
        "      dic[f'Pagina {e}'] = page\n",
        "      listDic.append(dic)\n",
        "\n",
        "\n",
        "#Finalmente utilizamos la funcion y le pasamos como argumento las tres variables que se definieron al principio, una que contiene la url, la otra es una lista vacia y la tercera el nombre con el que vamos a crear el archivo libro\n",
        "dicPages(url, listDic, bookName)\n",
        "\n",
        "#Finalmente hacemos una prueba de su fincionamiento imprimiendo una pagina utilizando el indice de la lista para ello\n",
        "print(listDic[10])\n"
      ],
      "metadata": {
        "colab": {
          "base_uri": "https://localhost:8080/"
        },
        "id": "KkOo3KGagPuM",
        "outputId": "91053ad7-f33e-4a91-bb05-b1d944c893e5"
      },
      "execution_count": null,
      "outputs": [
        {
          "output_type": "stream",
          "name": "stdout",
          "text": [
            "{'Pagina 10': 'Ni los mirones salvaron\\nde esa arriada de mi flor;\\nfue acoyarao el cantor\\ncon el gringo de la mona;\\na uno solo, por favor\\nlogró salvar la patrona.\\nFormaron un contingente\\ncon los que en el baile arriaron;\\ncon otros nos mesturaron\\nque habían agarrao también:\\nlas cosas que aquí se ven\\nni los diablos las pensaron.\\nA mí el juez me tomó entre ojos\\nen la última votación:\\nme le había hecho el remolón\\ny no me arrimé ese día,\\ny él dijo que yo servía\\na los de la esposición.\\nY ansí sufrí ese castigo\\ntal vez por culpas ajenas;\\nque sean malas o sean güenas\\nlas listas, siempre me escondo:\\nyo soy un gaucho redondo\\ny esas cosas no me enllenan.\\nAl mandarnos nos hicieron\\nmás promesas que a un altar.\\nEl Juez nos jue a proclamar\\ny nos dijo muchas veces:\\n\"Muchachos, a los seis meses\\nlos van a ir a revelar.\"\\nYo llevé un moro de número.\\n¡Sobresaliente el matucho!\\nCon él gané en Ayacucho\\nmás plata que agua bendita;\\nsiempre el gaucho necesita\\nun pingo pa fiarle un pucho.\\nY cargué sin dar mas güeltas\\ncon las prendas que tenía:\\njergas, poncho, cuanto había\\nen casa, tuito lo alcé;\\na mi china la dejé\\nmedia desnuda ese día.\\nNo me faltaba una guasca;\\nesa ocasión eché el resto:\\nbozal, maniador, cabresto,\\nlazo, bolas y manea...\\n¡El que hoy tan pobre me vea\\ntal vez no crerá todo esto!\\nPágina 10'}\n"
          ]
        }
      ]
    },
    {
      "cell_type": "code",
      "source": [],
      "metadata": {
        "id": "kFE-v5Vpga7C"
      },
      "execution_count": null,
      "outputs": []
    }
  ]
}